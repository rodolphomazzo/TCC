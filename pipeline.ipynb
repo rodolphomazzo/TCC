{
 "cells": [
  {
   "cell_type": "markdown",
   "metadata": {},
   "source": [
    "Primeiramente, se importa bibliotecas utilizadas e se estabelece parâmetros"
   ]
  },
  {
   "cell_type": "code",
   "execution_count": 23,
   "metadata": {},
   "outputs": [],
   "source": [
    "import numpy as np\n",
    "import cv2\n",
    "import matplotlib.pyplot as plt\n",
    "import matplotlib.image as mpimg\n",
    "import math\n",
    "from moviepy.editor import VideoFileClip\n",
    "from IPython.display import HTML\n",
    "\n",
    "plt.rcParams['figure.figsize'] = [18, 9]"
   ]
  },
  {
   "cell_type": "markdown",
   "metadata": {},
   "source": [
    "Em seguida, as funções necessárias ao longo do projeto são implementadas nas seguintes células"
   ]
  },
  {
   "cell_type": "code",
   "execution_count": 2,
   "metadata": {},
   "outputs": [],
   "source": [
    "#Extrai coluna de lista\n",
    "def pega_coluna(col_num, dados):\n",
    "    coluna = []\n",
    "    for i in range (0, len(dados)):\n",
    "        linha = data[i]\n",
    "        coluna.append(linha[col_num])\n",
    "    return coluna"
   ]
  },
  {
   "cell_type": "code",
   "execution_count": 28,
   "metadata": {},
   "outputs": [],
   "source": [
    "#Escolhe vertices de regiao de interesse com base em dimensões de imagem\n",
    "def regiao_de_interesse(imagem):\n",
    "    altura = imagem.shape[0]\n",
    "    largura = imagem.shape[1]\n",
    "    regiao = [\n",
    "        (0, altura),\n",
    "        (math.floor(largura * 0.4), math.floor(altura * 0.6)),\n",
    "        (math.floor(largura * 0.6), math.floor(altura * 0.6)),\n",
    "        (largura, altura)\n",
    "    ] #região trapezoidal\n",
    "    return regiao"
   ]
  },
  {
   "cell_type": "code",
   "execution_count": 4,
   "metadata": {},
   "outputs": [],
   "source": [
    "# Corta imagem de acordo com uma região entre pontos estabelecidos\n",
    "def corta_regiao(img, regiao):\n",
    "    # Define uma matriz vazia de máscara com as dimensões da imagem:\n",
    "    mascara = np.zeros_like(img)\n",
    "    mascara_cor = 255\n",
    "    # Preenche dentro do polígono\n",
    "    cv2.fillPoly(mascara, regiao, mascara_cor)\n",
    "    # Retorna a imagem onde os pixels combinam\n",
    "    imagem_cortada = cv2.bitwise_and(img, mascara)\n",
    "    return imagem_cortada\n"
   ]
  },
  {
   "cell_type": "code",
   "execution_count": 5,
   "metadata": {},
   "outputs": [],
   "source": [
    "# Desenha as linhas na imagem\n",
    "def desenha_linhas(imagem, linhas, cor=[255, 0, 0], espessura=3):\n",
    "      imagem_linha = np.zeros(\n",
    "        (\n",
    "          imagem.shape[0],\n",
    "          imagem.shape[1],\n",
    "          3\n",
    "        ),\n",
    "        dtype=np.uint8\n",
    "      )\n",
    "      imagem = np.copy(imagem)\n",
    "      if linhas is None:\n",
    "        return\n",
    "      for linha in linhas:\n",
    "        for x1, y1, x2, y2 in linha:\n",
    "          cv2.line(imagem_linha, (x1, y1), (x2, y2), cor, espessura)\n",
    "      img = cv2.addWeighted(imagem, 0.8, imagem_linha, 1.0, 0.0)\n",
    "      return img"
   ]
  },
  {
   "cell_type": "code",
   "execution_count": 6,
   "metadata": {},
   "outputs": [],
   "source": [
    "#Lê imagem, redimensionando para o padrão estabelecido\n",
    "def le_imagem(nome):\n",
    "    imagem = mpimg.imread('exemplo_imagens\\%s.jpg' %nome)\n",
    "    imagem = cv2.resize(imagem, (960,540))\n",
    "    return imagem"
   ]
  },
  {
   "cell_type": "code",
   "execution_count": 7,
   "metadata": {},
   "outputs": [],
   "source": [
    "#Mostra a imagem em questão\n",
    "def mostra_imagem(imagem):\n",
    "    plt.imshow(imagem)\n",
    "    plt.show()"
   ]
  },
  {
   "cell_type": "code",
   "execution_count": 1,
   "metadata": {},
   "outputs": [],
   "source": [
    "def detecta_faixas(imagem):\n",
    "\n",
    "    #Filtra e retira cores\n",
    "    imagem_filtrada = filtra_amarelo_branco(imagem)\n",
    "    \n",
    "    #Obtém bordas\n",
    "    imagem_canny = cv2.Canny(imagem_filtrada, 100, 200)\n",
    "    \n",
    "    #Corta região de interesse\n",
    "    imagem_cortada = corta_regiao(imagem_canny, np.array([regiao_de_interesse(imagem_canny)], np.int32))\n",
    "    \n",
    "    #Detecta faixas:\n",
    "    lines = cv2.HoughLinesP(\n",
    "        imagem_cortada,\n",
    "        rho=6,\n",
    "        theta=np.pi / 60,\n",
    "        threshold=70,\n",
    "        lines=np.array([]),\n",
    "        minLineLength=20,\n",
    "        maxLineGap=25\n",
    "    )\n",
    "\n",
    "    linha_esquerda_x = []\n",
    "    linha_esquerda_y = []\n",
    "    linha_direita_x = []\n",
    "    linha_direita_y = []\n",
    "\n",
    "    for linha in linhas:\n",
    "        for x1, y1, x2, y2 in linha:\n",
    "            inclinacao = (y2 - y1) / (x2 - x1)\n",
    "            if math.fabs(inclinacao) < 0.5:\n",
    "                continue\n",
    "            if inclinacao <= 0:\n",
    "                linha_esquerda_x.extend([x1, x2])\n",
    "                linha_esquerda_y.extend([y1, y2])\n",
    "            else:\n",
    "                linha_direita_x.extend([x1, x2])\n",
    "                linha_direita_y.extend([y1, y2])\n",
    "\n",
    "    min_y = int(imagem.shape[0] * (3 / 5))\n",
    "    max_y = int(imagem.shape[0])\n",
    "\n",
    "    poly_esquerda = np.poly1d(np.polyfit(\n",
    "        linha_esquerda_y,\n",
    "        linha_esquerda_x,\n",
    "        deg=1\n",
    "    ))\n",
    "\n",
    "    esquerda_x_comeco = int(poly_esquerda(max_y))\n",
    "    esquerda_x_fim = int(poly_esquerda(min_y))\n",
    "    poly_direita = np.poly1d(np.polyfit(\n",
    "        linha_direita_y,\n",
    "        linha_direita_x,\n",
    "        deg=1\n",
    "    ))\n",
    "    direita_x_comeco = int(poly_direita(max_y))\n",
    "    direita_x_fim = int(poly_direita(min_y))\n",
    "\n",
    "    imagem_linha = desenha_linhas(\n",
    "        imagem,\n",
    "        [[\n",
    "            [esquerda_x_comeco, max_y, esquerda_x_fim, min_y],\n",
    "            [direita_x_comeco, max_y, direita_x_fim, min_y],\n",
    "        ]],\n",
    "        espessura=5,\n",
    "    )\n",
    "    return imagem_linha"
   ]
  },
  {
   "cell_type": "code",
   "execution_count": 4,
   "metadata": {},
   "outputs": [],
   "source": [
    "#Aplica a pipeline e grava o video\n",
    "def produz_video(nomevideo):\n",
    "    saidavideo = 'resultados\\%s_saida.mp4' %nomevideo\n",
    "    video = VideoFileClip(\"exemplo_videos\\%s.mp4\" %nomevideo)\n",
    "    videofinal = video.fl_image(detecta_faixas)\n",
    "    videofinal.write_videofile(saidavideo, audio=False)    \n",
    "    videofinal.reader.close()\n",
    "    videofinal.audio.reader.close_proc()\n",
    "    "
   ]
  },
  {
   "cell_type": "code",
   "execution_count": 3,
   "metadata": {},
   "outputs": [],
   "source": [
    "#Mostra as intensidades de cada canal de cor da imagem em RGB, HSV e HLS\n",
    "def mostra_cores(imagem):\n",
    "    \n",
    "    #Filtra RGB:\n",
    "\n",
    "    #separa os canais\n",
    "    r,g,b = cv2.split(imagem)\n",
    "    #plota\n",
    "    figura, eixo = plt.subplots(ncols=3, nrows=1)\n",
    "    eixo[0].imshow(r, cmap=\"gray\")\n",
    "    eixo[0].set_title('Red')\n",
    "    eixo[1].imshow(g, cmap=\"gray\")\n",
    "    eixo[1].set_title('Green')\n",
    "    eixo[2].imshow(b, cmap=\"gray\")\n",
    "    eixo[2].set_title('Blue')\n",
    "    figura.suptitle(\"RGB\", fontsize=30, y=0.72)\n",
    "    plt.show()\n",
    "    \n",
    "    #Filtra HSV:\n",
    "    \n",
    "    #converte RGB -> HSV\n",
    "    imagemhsv = cv2.cvtColor(imagem,cv2.COLOR_RGB2HSV)\n",
    "    #separa os canais\n",
    "    h,s,v = cv2.split(imagemhsv)\n",
    "    #plota\n",
    "    figura, eixo = plt.subplots(ncols=3, nrows=1)\n",
    "    eixo[0].imshow(h, cmap=\"gray\")\n",
    "    eixo[0].set_title('Hue')\n",
    "    eixo[1].imshow(s, cmap=\"gray\")\n",
    "    eixo[1].set_title('Saturation')\n",
    "    eixo[2].imshow(v, cmap=\"gray\")\n",
    "    eixo[2].set_title('Value')\n",
    "    eixo[0].set_ylabel('HSV')\n",
    "    figura.suptitle(\"HSV\", fontsize=30, y=0.72)\n",
    "    plt.show()\n",
    "    \n",
    "    #Filtra HSL:\n",
    "    \n",
    "    #converte RGB -> HLS\n",
    "    imagemhls = cv2.cvtColor(imagem,cv2.COLOR_RGB2HLS)\n",
    "    #separa os canais\n",
    "    h,l,s = cv2.split(imagemhls)\n",
    "    #plota\n",
    "    figura, eixo = plt.subplots(ncols=3, nrows=1)\n",
    "    eixo[0].imshow(h, cmap=\"gray\")\n",
    "    eixo[0].set_title('Hue')\n",
    "    eixo[1].imshow(l, cmap=\"gray\")\n",
    "    eixo[1].set_title('Lightness')\n",
    "    eixo[2].imshow(s, cmap=\"gray\")\n",
    "    eixo[2].set_title('Saturation')\n",
    "    figura.suptitle(\"HSL\", fontsize=30, y=0.72)\n",
    "    plt.show()\n",
    "    "
   ]
  },
  {
   "cell_type": "code",
   "execution_count": 5,
   "metadata": {},
   "outputs": [],
   "source": [
    "#Mostra canais de cor de várias imagens do formato RGB em tons de cinza\n",
    "def testa_rgb(banco):\n",
    "    \n",
    "    #Obtém tamanho do banco:\n",
    "    tam = len(banco)\n",
    "    \n",
    "    #Plota tudo:\n",
    "    \n",
    "    figura, eixo = plt.subplots(ncols=3, nrows=1)\n",
    "    figura.suptitle(\"RGB\", fontsize=30, y=0.72)\n",
    "    imagem = banco[0][0]\n",
    "    r,g,b = cv2.split(imagem)\n",
    "    eixo[0].imshow(r, cmap=\"gray\")\n",
    "    eixo[0].set_title('Vermelho')\n",
    "    eixo[0].set_ylabel(banco[0][1],fontsize=16)\n",
    "    eixo[1].imshow(g, cmap=\"gray\")\n",
    "    eixo[1].set_title('Verde')\n",
    "    eixo[2].imshow(b, cmap=\"gray\")\n",
    "    eixo[2].set_title('Azul')\n",
    "    plt.show()\n",
    "    \n",
    "    for i,nome in zip(range(tam-1),banco[1:]):\n",
    "        figura, eixo = plt.subplots(ncols=3, nrows=1)\n",
    "        imagem = banco[i+1][0]\n",
    "        r,g,b = cv2.split(imagem)\n",
    "        eixo[0].imshow(r, cmap=\"gray\")\n",
    "        eixo[0].set_ylabel(banco[i+1][1],fontsize=16)\n",
    "        eixo[1].imshow(g, cmap=\"gray\")\n",
    "        eixo[2].imshow(b, cmap=\"gray\")\n",
    "        plt.show()\n",
    "    "
   ]
  },
  {
   "cell_type": "code",
   "execution_count": 6,
   "metadata": {},
   "outputs": [],
   "source": [
    "#Mostra canais de cor HSV de várias imagens do formato RGB em tons de cinza\n",
    "def testa_hsv(banco):\n",
    "    \n",
    "    #Obtém tamanho do banco:\n",
    "    tam = len(banco)\n",
    "    \n",
    "    #Plota tudo:\n",
    "    \n",
    "    figura, eixo = plt.subplots(ncols=3, nrows=1)\n",
    "    figura.suptitle(\"HSV\", fontsize=30, y=0.72)\n",
    "    imagem = banco[0][0]\n",
    "    imagemhsv = cv2.cvtColor(imagem,cv2.COLOR_RGB2HSV)\n",
    "    h,s,v = cv2.split(imagemhsv)\n",
    "    eixo[0].set_ylabel(banco[0][1],fontsize=16)\n",
    "    eixo[0].imshow(imagem)\n",
    "    eixo[0].set_title('Imagem completa')\n",
    "    eixo[1].imshow(s, cmap=\"gray\")\n",
    "    eixo[1].set_title('Saturação')\n",
    "    eixo[2].imshow(v, cmap=\"gray\")\n",
    "    eixo[2].set_title('Valor')\n",
    "    plt.show()\n",
    "    \n",
    "    for i,nome in zip(range(tam-1),banco[1:]):\n",
    "        figura, eixo = plt.subplots(ncols=3, nrows=1)\n",
    "        imagem = banco[i+1][0]\n",
    "        imagemhsv = cv2.cvtColor(imagem,cv2.COLOR_RGB2HSV)\n",
    "        h,s,v = cv2.split(imagemhsv)\n",
    "        eixo[0].set_ylabel(banco[i+1][1],fontsize=16)\n",
    "        eixo[0].imshow(imagem)\n",
    "        eixo[1].imshow(s, cmap=\"gray\")\n",
    "        eixo[2].imshow(v, cmap=\"gray\")\n",
    "        plt.show()\n",
    "    "
   ]
  },
  {
   "cell_type": "code",
   "execution_count": 15,
   "metadata": {},
   "outputs": [],
   "source": [
    "#Mostra canais de cor HlS de várias imagens do formato RGB em tons de cinza\n",
    "\n",
    "def testa_hls(banco):\n",
    "    \n",
    "    #Obtém tamanho do banco:\n",
    "    tam = len(banco)\n",
    "    \n",
    "    #Plota tudo:\n",
    "    \n",
    "    figura, eixo = plt.subplots(ncols=3, nrows=1)\n",
    "    figura.suptitle(\"HLS\", fontsize=30, y=0.72)\n",
    "    imagem = banco[0][0]\n",
    "    imagemhls = cv2.cvtColor(imagem,cv2.COLOR_RGB2HLS)\n",
    "    h,l,s = cv2.split(imagemhls)\n",
    "    eixo[0].set_ylabel(banco[0][1],fontsize=16)\n",
    "    eixo[0].imshow(imagem)\n",
    "    eixo[0].set_title('Imagem completa')\n",
    "    eixo[2].imshow(l, cmap=\"gray\")\n",
    "    eixo[2].set_title('Luminosidade')\n",
    "    eixo[1].imshow(s, cmap=\"gray\")\n",
    "    eixo[1].set_title('Saturação')\n",
    "    plt.show()\n",
    "    \n",
    "    for i,nome in zip(range(tam-1),banco[1:]):\n",
    "        figura, eixo = plt.subplots(ncols=3, nrows=1)\n",
    "        imagem = banco[i+1][0]\n",
    "        imagemhls = cv2.cvtColor(imagem,cv2.COLOR_RGB2HLS)\n",
    "        h,l,s = cv2.split(imagemhls)\n",
    "        eixo[0].set_ylabel(banco[i+1][1],fontsize=16)\n",
    "        eixo[0].imshow(imagem)\n",
    "        eixo[2].imshow(l, cmap=\"gray\")\n",
    "        eixo[1].imshow(s, cmap=\"gray\")\n",
    "        plt.show()"
   ]
  },
  {
   "cell_type": "code",
   "execution_count": 17,
   "metadata": {},
   "outputs": [],
   "source": [
    "#Filtra as cores selecionadas para o realce de faixas\n",
    "\n",
    "def filtra_amarelo_branco(imagem):\n",
    "    convertido = cv2.cvtColor(imagem, cv2.COLOR_RGB2HLS)\n",
    "    # white color mask\n",
    "    inferior = np.uint8([  0, 200,   0])\n",
    "    superior = np.uint8([255, 255, 255])\n",
    "    mascara_branca = cv2.inRange(convertido, inferior, superior)\n",
    "    # yellow color mask\n",
    "    inferior = np.uint8([ 10,   0, 100])\n",
    "    superior = np.uint8([ 50, 255, 255])\n",
    "    mascara_amarela = cv2.inRange(convertido, inferior, superior)\n",
    "    # combine the mask\n",
    "    mascara = cv2.bitwise_or(mascara_branca, mascara_amarela)\n",
    "    final = cv2.bitwise_and(imagem, imagem, mascara = mascara)\n",
    "    return cv2.cvtColor(cv2.cvtColor(final, cv2.COLOR_HLS2RGB), cv2.COLOR_RGB2GRAY)"
   ]
  },
  {
   "cell_type": "code",
   "execution_count": 27,
   "metadata": {},
   "outputs": [
    {
     "name": "stdout",
     "output_type": "stream",
     "text": [
      "[MoviePy] >>>> Building video resultados\\faixa_direita_branca_saida.mp4\n",
      "[MoviePy] Writing video resultados\\faixa_direita_branca_saida.mp4\n"
     ]
    },
    {
     "name": "stderr",
     "output_type": "stream",
     "text": [
      "100%|█████████▉| 221/222 [00:08<00:00, 25.42it/s]\n"
     ]
    },
    {
     "name": "stdout",
     "output_type": "stream",
     "text": [
      "[MoviePy] Done.\n",
      "[MoviePy] >>>> Video ready: resultados\\faixa_direita_branca_saida.mp4 \n",
      "\n",
      "[MoviePy] >>>> Building video resultados\\faixa_esquerda_amarela_saida.mp4\n",
      "[MoviePy] Writing video resultados\\faixa_esquerda_amarela_saida.mp4\n"
     ]
    },
    {
     "name": "stderr",
     "output_type": "stream",
     "text": [
      "100%|█████████▉| 681/682 [00:32<00:00, 20.99it/s]\n"
     ]
    },
    {
     "name": "stdout",
     "output_type": "stream",
     "text": [
      "[MoviePy] Done.\n",
      "[MoviePy] >>>> Video ready: resultados\\faixa_esquerda_amarela_saida.mp4 \n",
      "\n",
      "[MoviePy] >>>> Building video resultados\\desafio_saida.mp4\n",
      "[MoviePy] Writing video resultados\\desafio_saida.mp4\n"
     ]
    },
    {
     "name": "stderr",
     "output_type": "stream",
     "text": [
      "100%|██████████| 251/251 [00:24<00:00, 10.43it/s]\n"
     ]
    },
    {
     "name": "stdout",
     "output_type": "stream",
     "text": [
      "[MoviePy] Done.\n",
      "[MoviePy] >>>> Video ready: resultados\\desafio_saida.mp4 \n",
      "\n"
     ]
    }
   ],
   "source": [
    "# Main\n",
    "produz_video('faixa_direita_branca')\n",
    "produz_video('faixa_esquerda_amarela')\n",
    "produz_video('desafio')\n"
   ]
  },
  {
   "cell_type": "code",
   "execution_count": null,
   "metadata": {},
   "outputs": [],
   "source": []
  }
 ],
 "metadata": {
  "kernelspec": {
   "display_name": "Python 3",
   "language": "python",
   "name": "python3"
  },
  "language_info": {
   "codemirror_mode": {
    "name": "ipython",
    "version": 3
   },
   "file_extension": ".py",
   "mimetype": "text/x-python",
   "name": "python",
   "nbconvert_exporter": "python",
   "pygments_lexer": "ipython3",
   "version": "3.7.4"
  }
 },
 "nbformat": 4,
 "nbformat_minor": 4
}
